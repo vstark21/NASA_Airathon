{
 "cells": [
  {
   "cell_type": "code",
   "execution_count": null,
   "id": "23259e68-e064-4162-8db4-8811d22508cf",
   "metadata": {},
   "outputs": [],
   "source": [
    "from datashader.transfer_functions import shade, stack\n",
    "from datashader.colors import Elevation\n",
    "from pystac_client import Client\n",
    "from xrspatial import hillshade\n",
    "\n",
    "import planetary_computer as pc\n",
    "import xarray as xr\n",
    "import pandas as pd"
   ]
  },
  {
   "cell_type": "code",
   "execution_count": 7,
   "id": "8d2ad530-6b4d-41cf-80a9-f2f61363605f",
   "metadata": {},
   "outputs": [],
   "source": [
    "def get_elevation(areas_of_interest):\n",
    "    catalog = Client.open(\"https://planetarycomputer.microsoft.com/api/stac/v1\")\n",
    "    nasadem = catalog.search(collections=[\"nasadem\"], intersects=areas_of_interest)\n",
    "\n",
    "    items = [item for item in nasadem.get_items()]\n",
    "    print(f\"Returned {len(items)} Items\")\n",
    "\n",
    "    item = items[0]\n",
    "    signed_asset = pc.sign(item.assets[\"elevation\"])\n",
    "    da = xr.open_rasterio(signed_asset.href)\n",
    "    return float(da.mean()), float(da.std()) ** 2"
   ]
  },
  {
   "cell_type": "code",
   "execution_count": null,
   "id": "b3936c9b-56fe-49b9-8499-78cfe491686b",
   "metadata": {},
   "outputs": [],
   "source": [
    "from tqdm import tqdm\n",
    "grid_data = pd.read_csv('../data/grid_metadata.csv')\n",
    "wkt = grid_data['wkt'].values\n",
    "elevation_mean = []\n",
    "elevation_var = []\n",
    "\n",
    "\n",
    "for i in tqdm(range(len(wkt))):\n",
    "    geometry = wkt[i]\n",
    "    geometry = geometry.replace('(', '', -1)\n",
    "    geometry = geometry.replace(')', '', -1)\n",
    "    geometry = geometry.replace(',', '', -1)\n",
    "    geometry = list(map(float, geometry.split()[1:]))\n",
    "    geometry = [geometry[i:i+2] for i in range(0, len(geometry), 2)]\n",
    "\n",
    "    areas_of_interest = {\"type\": \"Polygon\", \"coordinates\": [geometry]}\n",
    "    m, v = get_elevation(areas_of_interest)\n",
    "\n",
    "    elevation_mean.append(m)\n",
    "    elevation_var.append(v)"
   ]
  },
  {
   "cell_type": "code",
   "execution_count": null,
   "id": "7302c4c0-6393-4cb2-a66b-0998aa038bf3",
   "metadata": {},
   "outputs": [],
   "source": [
    "grid_data['elevation_mean'] = elevation_mean\n",
    "grid_data['elevation_var'] = elevation_var"
   ]
  },
  {
   "cell_type": "code",
   "execution_count": null,
   "id": "c9bcd4f2-0ce7-4680-b16b-93084e52c54a",
   "metadata": {},
   "outputs": [],
   "source": [
    "grid_data.to_csv('../data/proc/grid_nasadem.csv', index=False)"
   ]
  }
 ],
 "metadata": {
  "kernelspec": {
   "display_name": "Python 3 (ipykernel)",
   "language": "python",
   "name": "python3"
  },
  "language_info": {
   "codemirror_mode": {
    "name": "ipython",
    "version": 3
   },
   "file_extension": ".py",
   "mimetype": "text/x-python",
   "name": "python",
   "nbconvert_exporter": "python",
   "pygments_lexer": "ipython3",
   "version": "3.9.0"
  }
 },
 "nbformat": 4,
 "nbformat_minor": 5
}
